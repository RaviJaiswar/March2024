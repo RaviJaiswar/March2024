{
 "cells": [
  {
   "cell_type": "code",
   "execution_count": 1,
   "id": "d415cf4d",
   "metadata": {},
   "outputs": [
    {
     "name": "stdout",
     "output_type": "stream",
     "text": [
      "\n",
      "ERROR:   Could not load MultiNest library \"libmultinest.so\"\n",
      "ERROR:   You have to build it first,\n",
      "ERROR:   and point the LD_LIBRARY_PATH environment variable to it!\n",
      "ERROR:   manual: http://johannesbuchner.github.com/PyMultiNest/install.html\n",
      "\n",
      "\n",
      "ERROR:   Could not load MultiNest library: libmultinest.so\n",
      "ERROR:   You have to build MultiNest,\n",
      "ERROR:   and point the LD_LIBRARY_PATH environment variable to it!\n",
      "ERROR:   manual: http://johannesbuchner.github.com/PyMultiNest/install.html\n",
      "\n",
      "problem: libmultinest.so: cannot open shared object file: No such file or directory\n",
      "Bagpipes: PyMultiNest import failed, fitting will be unavailable.\n"
     ]
    }
   ],
   "source": [
    "import bagpipes as pipes\n",
    "import numpy as np\n",
    "\n",
    "exp = {}                          # Tau model star formation history component\n",
    "exp[\"age\"] = 3.                   # Gyr\n",
    "exp[\"tau\"] = 0.75                 # Gyr\n",
    "exp[\"massformed\"] = 9.            # log_10(M*/M_solar)\n",
    "exp[\"metallicity\"] = 0.5          # Z/Z_oldsolar\n",
    "\n",
    "dust = {}                         # Dust component\n",
    "dust[\"type\"] = \"Calzetti\"         # Define the shape of the attenuation curve\n",
    "dust[\"Av\"] = 0.2                  # magnitudes\n",
    "\n",
    "model_components = {}                   # The model components dictionary\n",
    "model_components[\"redshift\"] = 1.0      # Observed redshift  \n",
    "model_components[\"exponential\"] = exp   \n",
    "model_components[\"dust\"] = dust"
   ]
  },
  {
   "cell_type": "code",
   "execution_count": null,
   "id": "0d1bc5af",
   "metadata": {},
   "outputs": [],
   "source": [
    "goodss_filt_list = [\"filters/VIMOS_U\",\n",
    "                    \"filters/f435w\",\n",
    "                    \"filters/f606w\",\n",
    "                    \"filters/f775w\",\n",
    "                    \"filters/f850lp\",\n",
    "                    \"filters/f098m\",\n",
    "                    \"filters/f105w\",\n",
    "                    \"filters/f125w\",\n",
    "                    \"filters/f160w\",\n",
    "                    \"filters/ISAAC_Ks\",\n",
    "                    \"filters/HAWKI_K\",\n",
    "                    \"filters/IRAC1\",\n",
    "                    \"filters/IRAC2\",\n",
    "                    \"filters/IRAC3\",\n",
    "                    \"filters/IRAC4\"]"
   ]
  },
  {
   "cell_type": "code",
   "execution_count": null,
   "id": "b1b018ae",
   "metadata": {},
   "outputs": [],
   "source": [
    "goodss_filt_list = np.loadtxt(\"filters/goodss_filt_list.txt\", dtype=\"str\")"
   ]
  },
  {
   "cell_type": "code",
   "execution_count": null,
   "id": "cbff18c2",
   "metadata": {},
   "outputs": [],
   "source": [
    "model = pipes.model_galaxy(model_components, filt_list=goodss_filt_list)"
   ]
  }
 ],
 "metadata": {
  "kernelspec": {
   "display_name": "Python 3 (ipykernel)",
   "language": "python",
   "name": "python3"
  },
  "language_info": {
   "codemirror_mode": {
    "name": "ipython",
    "version": 3
   },
   "file_extension": ".py",
   "mimetype": "text/x-python",
   "name": "python",
   "nbconvert_exporter": "python",
   "pygments_lexer": "ipython3",
   "version": "3.8.10"
  }
 },
 "nbformat": 4,
 "nbformat_minor": 5
}
